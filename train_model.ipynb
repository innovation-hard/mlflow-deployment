{
 "cells": [
  {
   "cell_type": "code",
   "execution_count": 1,
   "metadata": {},
   "outputs": [
    {
     "name": "stdout",
     "output_type": "stream",
     "text": [
      "env: MLFLOW_TRACKING_URI=http://127.0.0.1:5001\n"
     ]
    }
   ],
   "source": [
    "%env MLFLOW_TRACKING_URI=http://127.0.0.1:5001"
   ]
  },
  {
   "cell_type": "code",
   "execution_count": 2,
   "metadata": {},
   "outputs": [],
   "source": [
    "import mlflow\n",
    "\n",
    "import numpy as np\n",
    "from sklearn import datasets, metrics\n",
    "from sklearn.linear_model import ElasticNet\n",
    "from sklearn.model_selection import train_test_split\n",
    "\n",
    "\n",
    "def eval_metrics(pred, actual):\n",
    "    rmse = np.sqrt(metrics.mean_squared_error(actual, pred))\n",
    "    mae = metrics.mean_absolute_error(actual, pred)\n",
    "    r2 = metrics.r2_score(actual, pred)\n",
    "    return rmse, mae, r2"
   ]
  },
  {
   "cell_type": "code",
   "execution_count": 3,
   "metadata": {},
   "outputs": [],
   "source": [
    "# Set th experiment name\n",
    "mlflow.set_experiment(\"wine-quality\")\n",
    "# Enable auto-logging to MLflow\n",
    "mlflow.sklearn.autolog()"
   ]
  },
  {
   "cell_type": "code",
   "execution_count": 4,
   "metadata": {},
   "outputs": [
    {
     "name": "stderr",
     "output_type": "stream",
     "text": [
      "2024/10/29 20:40:38 INFO mlflow.tracking._tracking_service.client: 🏃 View run default-params at: http://127.0.0.1:5001/#/experiments/180333391132533584/runs/24503bffd09e4f57934598769de968a6.\n",
      "2024/10/29 20:40:38 INFO mlflow.tracking._tracking_service.client: 🧪 View experiment at: http://127.0.0.1:5001/#/experiments/180333391132533584.\n"
     ]
    }
   ],
   "source": [
    "# Load wine quality dataset\n",
    "X, y = datasets.load_wine(return_X_y=True)\n",
    "X_train, X_test, y_train, y_test = train_test_split(X, y, test_size=0.25)\n",
    "\n",
    "# Start a run and train a model\n",
    "with mlflow.start_run(run_name=\"default-params\"):\n",
    "    lr = ElasticNet()\n",
    "    lr.fit(X_train, y_train)\n",
    "\n",
    "    y_pred = lr.predict(X_test)\n",
    "    rmse, mae, r2 = eval_metrics(y_pred, y_test)\n",
    "    mlflow.log_metrics(\n",
    "        {\n",
    "            \"mean_squared_error_X_test\": rmse,\n",
    "            \"mean_absolute_error_X_test\": mae,\n",
    "            \"r2_score_X_test\": r2,\n",
    "        }\n",
    "    )"
   ]
  },
  {
   "cell_type": "code",
   "execution_count": 5,
   "metadata": {},
   "outputs": [
    {
     "name": "stderr",
     "output_type": "stream",
     "text": [
      "2024/10/29 20:40:45 INFO mlflow.sklearn.utils: Logging the 5 best runs, 95 runs will be omitted.\n",
      "2024/10/29 20:40:46 INFO mlflow.tracking._tracking_service.client: 🏃 View run sedate-bee-74 at: http://127.0.0.1:5001/#/experiments/180333391132533584/runs/75b7d0ddc46942cbbd3d4606dbe9123a.\n",
      "2024/10/29 20:40:46 INFO mlflow.tracking._tracking_service.client: 🧪 View experiment at: http://127.0.0.1:5001/#/experiments/180333391132533584.\n",
      "2024/10/29 20:40:46 INFO mlflow.tracking._tracking_service.client: 🏃 View run clumsy-ray-675 at: http://127.0.0.1:5001/#/experiments/180333391132533584/runs/4fc418d9abad4661b7ddcefbf586d6ce.\n",
      "2024/10/29 20:40:46 INFO mlflow.tracking._tracking_service.client: 🧪 View experiment at: http://127.0.0.1:5001/#/experiments/180333391132533584.\n",
      "2024/10/29 20:40:46 INFO mlflow.tracking._tracking_service.client: 🏃 View run sedate-shoat-834 at: http://127.0.0.1:5001/#/experiments/180333391132533584/runs/49b3440174844572bd9b4b6cc769da3d.\n",
      "2024/10/29 20:40:46 INFO mlflow.tracking._tracking_service.client: 🧪 View experiment at: http://127.0.0.1:5001/#/experiments/180333391132533584.\n",
      "2024/10/29 20:40:46 INFO mlflow.tracking._tracking_service.client: 🏃 View run sedate-turtle-48 at: http://127.0.0.1:5001/#/experiments/180333391132533584/runs/4e8f0f0054ac4785844c501e5cdc6166.\n",
      "2024/10/29 20:40:46 INFO mlflow.tracking._tracking_service.client: 🧪 View experiment at: http://127.0.0.1:5001/#/experiments/180333391132533584.\n",
      "2024/10/29 20:40:46 INFO mlflow.tracking._tracking_service.client: 🏃 View run hyperparameter-tuning at: http://127.0.0.1:5001/#/experiments/180333391132533584/runs/40a3c892a14d47e487982af67950c562.\n",
      "2024/10/29 20:40:46 INFO mlflow.tracking._tracking_service.client: 🧪 View experiment at: http://127.0.0.1:5001/#/experiments/180333391132533584.\n"
     ]
    },
    {
     "name": "stderr",
     "output_type": "stream",
     "text": [
      "2024/10/29 20:40:46 INFO mlflow.tracking._tracking_service.client: 🏃 View run nosy-tern-179 at: http://127.0.0.1:5001/#/experiments/180333391132533584/runs/5fc75329917a4751866d73acb071d2ed.\n",
      "2024/10/29 20:40:46 INFO mlflow.tracking._tracking_service.client: 🧪 View experiment at: http://127.0.0.1:5001/#/experiments/180333391132533584.\n"
     ]
    }
   ],
   "source": [
    "from scipy.stats import uniform\n",
    "from sklearn.model_selection import RandomizedSearchCV\n",
    "\n",
    "lr = ElasticNet()\n",
    "\n",
    "# Define distribution to pick parameter values from\n",
    "distributions = dict(\n",
    "    alpha=uniform(loc=0, scale=10),  # sample alpha uniformly from [-5.0, 5.0]\n",
    "    l1_ratio=uniform(),  # sample l1_ratio uniformlyfrom [0, 1.0]\n",
    ")\n",
    "\n",
    "# Initialize random search instance\n",
    "clf = RandomizedSearchCV(\n",
    "    estimator=lr,\n",
    "    param_distributions=distributions,\n",
    "    # Optimize for mean absolute error\n",
    "    scoring=\"neg_mean_absolute_error\",\n",
    "    # Use 5-fold cross validation\n",
    "    cv=5,\n",
    "    # Try 100 samples. Note that MLflow only logs the top 5 runs.\n",
    "    n_iter=100,\n",
    ")\n",
    "\n",
    "# Start a parent run\n",
    "with mlflow.start_run(run_name=\"hyperparameter-tuning\"):\n",
    "    search = clf.fit(X_train, y_train)\n",
    "\n",
    "    # Evaluate the best model on test dataset\n",
    "    y_pred = clf.best_estimator_.predict(X_test)\n",
    "    rmse, mae, r2 = eval_metrics(y_pred, y_test)\n",
    "    mlflow.log_metrics(\n",
    "        {\n",
    "            \"mean_squared_error_X_test\": rmse,\n",
    "            \"mean_absolute_error_X_test\": mae,\n",
    "            \"r2_score_X_test\": r2,\n",
    "        }\n",
    "    )\n"
   ]
  },
  {
   "cell_type": "code",
   "execution_count": null,
   "metadata": {},
   "outputs": [],
   "source": []
  }
 ],
 "metadata": {
  "kernelspec": {
   "display_name": "mlflow-deployment",
   "language": "python",
   "name": "python3"
  },
  "language_info": {
   "codemirror_mode": {
    "name": "ipython",
    "version": 3
   },
   "file_extension": ".py",
   "mimetype": "text/x-python",
   "name": "python",
   "nbconvert_exporter": "python",
   "pygments_lexer": "ipython3",
   "version": "3.12.7"
  }
 },
 "nbformat": 4,
 "nbformat_minor": 2
}
